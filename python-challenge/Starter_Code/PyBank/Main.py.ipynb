{
 "cells": [
  {
   "cell_type": "code",
   "execution_count": 2,
   "id": "5249d9a0-da62-45c4-a96c-0db2813a94b4",
   "metadata": {},
   "outputs": [],
   "source": [
    "import pandas as pd"
   ]
  },
  {
   "cell_type": "code",
   "execution_count": 4,
   "id": "8103a911-a468-4a5b-b3dc-7982e76a5fa3",
   "metadata": {},
   "outputs": [
    {
     "data": {
      "text/html": [
       "<div>\n",
       "<style scoped>\n",
       "    .dataframe tbody tr th:only-of-type {\n",
       "        vertical-align: middle;\n",
       "    }\n",
       "\n",
       "    .dataframe tbody tr th {\n",
       "        vertical-align: top;\n",
       "    }\n",
       "\n",
       "    .dataframe thead th {\n",
       "        text-align: right;\n",
       "    }\n",
       "</style>\n",
       "<table border=\"1\" class=\"dataframe\">\n",
       "  <thead>\n",
       "    <tr style=\"text-align: right;\">\n",
       "      <th></th>\n",
       "      <th>Date</th>\n",
       "      <th>Profit/Losses</th>\n",
       "    </tr>\n",
       "  </thead>\n",
       "  <tbody>\n",
       "    <tr>\n",
       "      <th>0</th>\n",
       "      <td>Jan-10</td>\n",
       "      <td>1088983</td>\n",
       "    </tr>\n",
       "    <tr>\n",
       "      <th>1</th>\n",
       "      <td>Feb-10</td>\n",
       "      <td>-354534</td>\n",
       "    </tr>\n",
       "    <tr>\n",
       "      <th>2</th>\n",
       "      <td>Mar-10</td>\n",
       "      <td>276622</td>\n",
       "    </tr>\n",
       "    <tr>\n",
       "      <th>3</th>\n",
       "      <td>Apr-10</td>\n",
       "      <td>-728133</td>\n",
       "    </tr>\n",
       "    <tr>\n",
       "      <th>4</th>\n",
       "      <td>May-10</td>\n",
       "      <td>852993</td>\n",
       "    </tr>\n",
       "  </tbody>\n",
       "</table>\n",
       "</div>"
      ],
      "text/plain": [
       "     Date  Profit/Losses\n",
       "0  Jan-10        1088983\n",
       "1  Feb-10        -354534\n",
       "2  Mar-10         276622\n",
       "3  Apr-10        -728133\n",
       "4  May-10         852993"
      ]
     },
     "execution_count": 4,
     "metadata": {},
     "output_type": "execute_result"
    }
   ],
   "source": [
    "path = \"Resources/budget_data.csv\"\n",
    "budget_data = pd.read_csv(path)\n",
    "budget_data.head()"
   ]
  },
  {
   "cell_type": "code",
   "execution_count": 6,
   "id": "3ec098ee-cc5c-4963-9cab-89036f531bc5",
   "metadata": {},
   "outputs": [
    {
     "data": {
      "text/plain": [
       "86"
      ]
     },
     "execution_count": 6,
     "metadata": {},
     "output_type": "execute_result"
    }
   ],
   "source": [
    "total_months = budget_data[\"Date\"].nunique()\n",
    "total_months"
   ]
  },
  {
   "cell_type": "code",
   "execution_count": 8,
   "id": "66896c0e-24c8-4efe-816d-d7487a541189",
   "metadata": {},
   "outputs": [
    {
     "data": {
      "text/plain": [
       "22564198"
      ]
     },
     "execution_count": 8,
     "metadata": {},
     "output_type": "execute_result"
    }
   ],
   "source": [
    "net_total = budget_data[\"Profit/Losses\"].sum()\n",
    "net_total"
   ]
  },
  {
   "cell_type": "code",
   "execution_count": 10,
   "id": "61804777-bd19-4858-b02f-448a89919ffa",
   "metadata": {},
   "outputs": [
    {
     "data": {
      "text/plain": [
       "0          NaN\n",
       "1   -1443517.0\n",
       "2     631156.0\n",
       "3   -1004755.0\n",
       "4    1581126.0\n",
       "Name: Change, dtype: float64"
      ]
     },
     "execution_count": 10,
     "metadata": {},
     "output_type": "execute_result"
    }
   ],
   "source": [
    "budget_data['Change'] = budget_data['Profit/Losses'].diff()\n",
    "budget_data[\"Change\"].head()\n"
   ]
  },
  {
   "cell_type": "code",
   "execution_count": 12,
   "id": "965e12b1-a311-4d95-860d-3f4dbc8fc8cd",
   "metadata": {},
   "outputs": [
    {
     "data": {
      "text/plain": [
       "-8311.105882352942"
      ]
     },
     "execution_count": 12,
     "metadata": {},
     "output_type": "execute_result"
    }
   ],
   "source": [
    "average_change = budget_data[\"Change\"].mean()\n",
    "average_change"
   ]
  },
  {
   "cell_type": "code",
   "execution_count": 14,
   "id": "3471426b-76cf-4932-9e51-ff82b2165438",
   "metadata": {},
   "outputs": [
    {
     "data": {
      "text/plain": [
       "1862002.0"
      ]
     },
     "execution_count": 14,
     "metadata": {},
     "output_type": "execute_result"
    }
   ],
   "source": [
    "greatest_increase = budget_data[\"Change\"].max()\n",
    "greatest_increase\n"
   ]
  },
  {
   "cell_type": "code",
   "execution_count": 16,
   "id": "925ca8ac-f3d9-44c1-978e-47e05eac62bf",
   "metadata": {},
   "outputs": [
    {
     "data": {
      "text/plain": [
       "'Aug-16'"
      ]
     },
     "execution_count": 16,
     "metadata": {},
     "output_type": "execute_result"
    }
   ],
   "source": [
    "greatest_increase_date = budget_data.loc[budget_data['Change'] == greatest_increase, 'Date'].values[0]\n",
    "greatest_increase_date"
   ]
  },
  {
   "cell_type": "code",
   "execution_count": 18,
   "id": "94f3272b-1b14-4b58-86f9-e27cbe70495a",
   "metadata": {},
   "outputs": [
    {
     "data": {
      "text/plain": [
       "-1825558.0"
      ]
     },
     "execution_count": 18,
     "metadata": {},
     "output_type": "execute_result"
    }
   ],
   "source": [
    "greatest_decrease = budget_data['Change'].min()\n",
    "greatest_decrease"
   ]
  },
  {
   "cell_type": "code",
   "execution_count": 20,
   "id": "35084c24-4aa7-49b1-b98f-8719583aed64",
   "metadata": {},
   "outputs": [
    {
     "data": {
      "text/plain": [
       "'Feb-14'"
      ]
     },
     "execution_count": 20,
     "metadata": {},
     "output_type": "execute_result"
    }
   ],
   "source": [
    "greatest_decrease_date = budget_data.loc[budget_data['Change'] == greatest_decrease, 'Date'].values[0]\n",
    "greatest_decrease_date"
   ]
  },
  {
   "cell_type": "code",
   "execution_count": 22,
   "id": "77af9ab1-9c73-43a2-bb17-4899c069a99a",
   "metadata": {},
   "outputs": [
    {
     "name": "stdout",
     "output_type": "stream",
     "text": [
      "Financial Analysis\n",
      "-------------------------------------\n",
      "Total Months: 86\n",
      "Total: $22564198\n",
      "Average Change: $-8311.11\n",
      "Greatest Increase in Profits: Aug-16 ($1862002)\n",
      "Greatest Decrease in Profits: Feb-14 ($-1825558)\n"
     ]
    }
   ],
   "source": [
    "print(\"Financial Analysis\")\n",
    "print(\"-------------------------------------\")\n",
    "print(f\"Total Months: {total_months}\")\n",
    "print(f\"Total: ${net_total}\")\n",
    "print(f\"Average Change: ${average_change:.2f}\")\n",
    "print(f\"Greatest Increase in Profits: {greatest_increase_date} (${greatest_increase:.0f})\")\n",
    "print(f\"Greatest Decrease in Profits: {greatest_decrease_date} (${greatest_decrease:.0f})\")"
   ]
  },
  {
   "cell_type": "code",
   "execution_count": 26,
   "id": "a458f578-421b-49a3-83e9-aabcd534ffc8",
   "metadata": {},
   "outputs": [
    {
     "data": {
      "text/plain": [
       "'bank.text'"
      ]
     },
     "execution_count": 26,
     "metadata": {},
     "output_type": "execute_result"
    }
   ],
   "source": [
    "output = \"bank.text\"\n",
    "with open(path, \"w\") as file:\n",
    "    file.write(output)\n",
    "output"
   ]
  },
  {
   "cell_type": "code",
   "execution_count": null,
   "id": "95c6e98e-3f8b-4717-843c-a77444595a55",
   "metadata": {},
   "outputs": [],
   "source": []
  }
 ],
 "metadata": {
  "kernelspec": {
   "display_name": "Python 3 (ipykernel)",
   "language": "python",
   "name": "python3"
  },
  "language_info": {
   "codemirror_mode": {
    "name": "ipython",
    "version": 3
   },
   "file_extension": ".py",
   "mimetype": "text/x-python",
   "name": "python",
   "nbconvert_exporter": "python",
   "pygments_lexer": "ipython3",
   "version": "3.11.7"
  }
 },
 "nbformat": 4,
 "nbformat_minor": 5
}
