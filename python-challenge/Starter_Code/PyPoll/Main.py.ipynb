{
 "cells": [
  {
   "cell_type": "code",
   "execution_count": 22,
   "id": "9916b992-30e9-4c66-ba61-390b870b23cc",
   "metadata": {},
   "outputs": [],
   "source": [
    "import pandas as pd"
   ]
  },
  {
   "cell_type": "code",
   "execution_count": 24,
   "id": "ec1be671-f466-4e1f-bf1e-2a72af9acba9",
   "metadata": {},
   "outputs": [
    {
     "data": {
      "text/html": [
       "<div>\n",
       "<style scoped>\n",
       "    .dataframe tbody tr th:only-of-type {\n",
       "        vertical-align: middle;\n",
       "    }\n",
       "\n",
       "    .dataframe tbody tr th {\n",
       "        vertical-align: top;\n",
       "    }\n",
       "\n",
       "    .dataframe thead th {\n",
       "        text-align: right;\n",
       "    }\n",
       "</style>\n",
       "<table border=\"1\" class=\"dataframe\">\n",
       "  <thead>\n",
       "    <tr style=\"text-align: right;\">\n",
       "      <th></th>\n",
       "      <th>Ballot ID</th>\n",
       "      <th>County</th>\n",
       "      <th>Candidate</th>\n",
       "    </tr>\n",
       "  </thead>\n",
       "  <tbody>\n",
       "    <tr>\n",
       "      <th>0</th>\n",
       "      <td>1323913</td>\n",
       "      <td>Jefferson</td>\n",
       "      <td>Charles Casper Stockham</td>\n",
       "    </tr>\n",
       "    <tr>\n",
       "      <th>1</th>\n",
       "      <td>1005842</td>\n",
       "      <td>Jefferson</td>\n",
       "      <td>Charles Casper Stockham</td>\n",
       "    </tr>\n",
       "    <tr>\n",
       "      <th>2</th>\n",
       "      <td>1880345</td>\n",
       "      <td>Jefferson</td>\n",
       "      <td>Charles Casper Stockham</td>\n",
       "    </tr>\n",
       "    <tr>\n",
       "      <th>3</th>\n",
       "      <td>1600337</td>\n",
       "      <td>Jefferson</td>\n",
       "      <td>Charles Casper Stockham</td>\n",
       "    </tr>\n",
       "    <tr>\n",
       "      <th>4</th>\n",
       "      <td>1835994</td>\n",
       "      <td>Jefferson</td>\n",
       "      <td>Charles Casper Stockham</td>\n",
       "    </tr>\n",
       "  </tbody>\n",
       "</table>\n",
       "</div>"
      ],
      "text/plain": [
       "   Ballot ID     County                Candidate\n",
       "0    1323913  Jefferson  Charles Casper Stockham\n",
       "1    1005842  Jefferson  Charles Casper Stockham\n",
       "2    1880345  Jefferson  Charles Casper Stockham\n",
       "3    1600337  Jefferson  Charles Casper Stockham\n",
       "4    1835994  Jefferson  Charles Casper Stockham"
      ]
     },
     "execution_count": 24,
     "metadata": {},
     "output_type": "execute_result"
    }
   ],
   "source": [
    "path = \"Resources/election_data.csv\"\n",
    "election_data = pd.read_csv(path)\n",
    "election_data.head()"
   ]
  },
  {
   "cell_type": "code",
   "execution_count": 25,
   "id": "1cf149d1-e6e6-4eb7-a94e-a366df67fd2d",
   "metadata": {},
   "outputs": [
    {
     "data": {
      "text/plain": [
       "(369711,\n",
       " Ballot ID\n",
       " 1323913    1\n",
       " 6316093    1\n",
       " 5375112    1\n",
       " 7870527    1\n",
       " 7789364    1\n",
       "           ..\n",
       " 7953257    1\n",
       " 5932025    1\n",
       " 5029501    1\n",
       " 5113956    1\n",
       " 4660518    1\n",
       " Name: count, Length: 369711, dtype: int64)"
      ]
     },
     "execution_count": 25,
     "metadata": {},
     "output_type": "execute_result"
    }
   ],
   "source": [
    "#Total number of cast votes\n",
    "total_votes = election_data[\"Ballot ID\"].value_counts()\n",
    "total = election_data[\"Ballot ID\"].nunique()\n",
    "total, total_votes"
   ]
  },
  {
   "cell_type": "code",
   "execution_count": null,
   "id": "8e4f3bc9-ae56-4117-a902-8b1913914d47",
   "metadata": {},
   "outputs": [],
   "source": []
  },
  {
   "cell_type": "code",
   "execution_count": 29,
   "id": "9b63b5bd-a7a6-42a5-9240-e37073daa8c4",
   "metadata": {},
   "outputs": [
    {
     "data": {
      "text/plain": [
       "array(['Charles Casper Stockham', 'Diana DeGette', 'Raymon Anthony Doane'],\n",
       "      dtype=object)"
      ]
     },
     "execution_count": 29,
     "metadata": {},
     "output_type": "execute_result"
    }
   ],
   "source": [
    "#Number of votes for each candidate\n",
    "candidates = election_data[\"Candidate\"].unique()\n",
    "candidates"
   ]
  },
  {
   "cell_type": "code",
   "execution_count": 31,
   "id": "af40d29e-63ea-411d-8677-a9004a6af675",
   "metadata": {},
   "outputs": [
    {
     "data": {
      "text/plain": [
       "Candidate\n",
       "Diana DeGette              272892\n",
       "Charles Casper Stockham     85213\n",
       "Raymon Anthony Doane        11606\n",
       "Name: count, dtype: int64"
      ]
     },
     "execution_count": 31,
     "metadata": {},
     "output_type": "execute_result"
    }
   ],
   "source": [
    "counts = election_data[\"Candidate\"].value_counts()\n",
    "counts"
   ]
  },
  {
   "cell_type": "code",
   "execution_count": 65,
   "id": "2dc25631-d217-472a-9885-9de065244ed8",
   "metadata": {},
   "outputs": [
    {
     "data": {
      "text/plain": [
       "Candidate\n",
       "Diana DeGette              73.812\n",
       "Charles Casper Stockham    23.049\n",
       "Raymon Anthony Doane        3.139\n",
       "Name: count, dtype: float64"
      ]
     },
     "execution_count": 65,
     "metadata": {},
     "output_type": "execute_result"
    }
   ],
   "source": [
    "percent = (counts/total)*100\n",
    "percent = round(percent, 3)\n",
    "percent"
   ]
  },
  {
   "cell_type": "code",
   "execution_count": 67,
   "id": "af8158a2-17f9-4b63-868a-6d533878ce50",
   "metadata": {},
   "outputs": [
    {
     "data": {
      "text/plain": [
       "'Diana DeGette'"
      ]
     },
     "execution_count": 67,
     "metadata": {},
     "output_type": "execute_result"
    }
   ],
   "source": [
    "winner = counts.loc[counts == counts.max()].index[0]\n",
    "winner"
   ]
  },
  {
   "cell_type": "code",
   "execution_count": 37,
   "id": "28c2183d-f05d-4de5-9f81-35bcf63e5cdc",
   "metadata": {},
   "outputs": [
    {
     "data": {
      "text/plain": [
       "(85213, 272892, 11606)"
      ]
     },
     "execution_count": 37,
     "metadata": {},
     "output_type": "execute_result"
    }
   ],
   "source": [
    "Charles = counts['Charles Casper Stockham']\n",
    "Diana = counts[\"Diana DeGette\"]\n",
    "Raymon = counts[\"Raymon Anthony Doane\"]\n",
    "Charles, Diana, Raymon"
   ]
  },
  {
   "cell_type": "code",
   "execution_count": 61,
   "id": "f093d588-61f2-44db-91a4-8eed5780256e",
   "metadata": {},
   "outputs": [
    {
     "data": {
      "text/plain": [
       "(23.049, 73.812, 3.139)"
      ]
     },
     "execution_count": 61,
     "metadata": {},
     "output_type": "execute_result"
    }
   ],
   "source": [
    "Charles_percent = (Charles/total)*100\n",
    "Charles_percent = round(Charles_percent,3)\n",
    "Diana_percent = (Diana/total)*100\n",
    "Diana_percent = round(Diana_percent,3)\n",
    "Raymon_percent = (Raymon/total)*100\n",
    "Raymon_percent = round(Raymon_percent,3)\n",
    "\n",
    "Charles_percent, Diana_percent, Raymon_percent"
   ]
  },
  {
   "cell_type": "code",
   "execution_count": 63,
   "id": "95e2beb2-e979-474d-aedf-bfc520e6adc5",
   "metadata": {},
   "outputs": [
    {
     "name": "stdout",
     "output_type": "stream",
     "text": [
      "Election Results\n",
      "-------------------------------------------------\n",
      "Total Votes:                  369711\n",
      "-------------------------------------------------\n",
      "Charles Casper Stockham :     23.049%  (85213)\n",
      "Diana DeGette :               73.812%  (272892)\n",
      "Raymon Anthony Doane :        3.139%  (11606)\n",
      "-------------------------------------------------\n",
      "Winner:                       Diana DeGette\n",
      "-------------------------------------------------\n"
     ]
    }
   ],
   "source": [
    "print(\"Election Results\")\n",
    "print(\"-------------------------------------------------\")\n",
    "print(f\"Total Votes:                  {total}\")\n",
    "print(\"-------------------------------------------------\")\n",
    "print(f\"Charles Casper Stockham :     {Charles_percent}%  ({Charles})\")\n",
    "print(f\"Diana DeGette :               {Diana_percent}%  ({Diana})\")\n",
    "print(f\"Raymon Anthony Doane :        {Raymon_percent}%  ({Raymon})\")\n",
    "print(\"-------------------------------------------------\")\n",
    "print(f\"Winner:                       {winner}\")\n",
    "print(\"-------------------------------------------------\")"
   ]
  },
  {
   "cell_type": "code",
   "execution_count": null,
   "id": "9db818be-4533-4b7d-a04f-02e3de2e3c60",
   "metadata": {},
   "outputs": [],
   "source": []
  }
 ],
 "metadata": {
  "kernelspec": {
   "display_name": "Python 3 (ipykernel)",
   "language": "python",
   "name": "python3"
  },
  "language_info": {
   "codemirror_mode": {
    "name": "ipython",
    "version": 3
   },
   "file_extension": ".py",
   "mimetype": "text/x-python",
   "name": "python",
   "nbconvert_exporter": "python",
   "pygments_lexer": "ipython3",
   "version": "3.11.7"
  }
 },
 "nbformat": 4,
 "nbformat_minor": 5
}
