{
 "cells": [
  {
   "cell_type": "code",
   "execution_count": 8,
   "id": "51b28208-9ab1-4d34-be40-2467c882f271",
   "metadata": {},
   "outputs": [],
   "source": [
    "import pandas as pd\n",
    "path = \"Resources/election_data.csv\"\n",
    "data = pd.read_csv(path)"
   ]
  },
  {
   "cell_type": "code",
   "execution_count": 10,
   "id": "cf3f1e31-2c3d-4e57-a641-0b84f017e0a6",
   "metadata": {},
   "outputs": [
    {
     "data": {
      "text/plain": [
       "{'Total Votes': 369711,\n",
       " 'Candidates': array(['Charles Casper Stockham', 'Diana DeGette', 'Raymon Anthony Doane'],\n",
       "       dtype=object),\n",
       " 'Charles Votes': 85213,\n",
       " 'Charles Percentage': 23.04854332167558,\n",
       " 'Diana Votes': 272892,\n",
       " 'Diana Percentage': 73.81224794501652,\n",
       " 'Raymon Votes': 11606,\n",
       " 'Raymon Percentage': 3.1392087333079077,\n",
       " 'Winner': 'Diana DeGette'}"
      ]
     },
     "execution_count": 10,
     "metadata": {},
     "output_type": "execute_result"
    }
   ],
   "source": [
    "# Total number of votes cast\n",
    "total_votes = data.shape[0]\n",
    "\n",
    "# List of candidates who received votes\n",
    "candidates = data['Candidate'].unique()\n",
    "\n",
    "# Count the number of votes each candidate won\n",
    "vote_counts = data['Candidate'].value_counts()\n",
    "\n",
    "# Calculate the percentage of votes each candidate won\n",
    "vote_percentages = (vote_counts / total_votes) * 100\n",
    "\n",
    "# Determine the winner based on popular vote\n",
    "winner = vote_counts.idxmax()\n",
    "\n",
    "# Assigning counts and percentages to individual variables\n",
    "charles_votes = vote_counts['Charles Casper Stockham']\n",
    "diana_votes = vote_counts['Diana DeGette']\n",
    "raymon_votes = vote_counts['Raymon Anthony Doane']\n",
    "\n",
    "charles_percentage = vote_percentages['Charles Casper Stockham']\n",
    "diana_percentage = vote_percentages['Diana DeGette']\n",
    "raymon_percentage = vote_percentages['Raymon Anthony Doane']\n",
    "\n",
    "# Displaying the results summary\n",
    "results_summary = {\n",
    "    'Total Votes': total_votes,\n",
    "    'Candidates': candidates,\n",
    "    'Charles Votes': charles_votes,\n",
    "    'Charles Percentage': charles_percentage,\n",
    "    'Diana Votes': diana_votes,\n",
    "    'Diana Percentage': diana_percentage,\n",
    "    'Raymon Votes': raymon_votes,\n",
    "    'Raymon Percentage': raymon_percentage,\n",
    "    'Winner': winner\n",
    "}\n",
    "\n",
    "results_summary\n"
   ]
  },
  {
   "cell_type": "code",
   "execution_count": null,
   "id": "3e843edd-399b-4a8f-b68c-00d4888d608e",
   "metadata": {},
   "outputs": [],
   "source": []
  }
 ],
 "metadata": {
  "kernelspec": {
   "display_name": "Python 3 (ipykernel)",
   "language": "python",
   "name": "python3"
  },
  "language_info": {
   "codemirror_mode": {
    "name": "ipython",
    "version": 3
   },
   "file_extension": ".py",
   "mimetype": "text/x-python",
   "name": "python",
   "nbconvert_exporter": "python",
   "pygments_lexer": "ipython3",
   "version": "3.11.7"
  }
 },
 "nbformat": 4,
 "nbformat_minor": 5
}
